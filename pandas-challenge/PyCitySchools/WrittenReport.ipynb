{
 "cells": [
  {
   "cell_type": "code",
   "execution_count": 13,
   "id": "4c171097",
   "metadata": {},
   "outputs": [],
   "source": [
    "# Analysis"
   ]
  },
  {
   "cell_type": "code",
   "execution_count": 14,
   "id": "5d4d6bbd",
   "metadata": {},
   "outputs": [],
   "source": [
    "# The assignment focuses on the correlations between budget, student count, and student scores by using data from several high schools."
   ]
  },
  {
   "cell_type": "code",
   "execution_count": 15,
   "id": "66e69377",
   "metadata": {},
   "outputs": [],
   "source": [
    "# 1. The lowest performing schools have the highest population of students."
   ]
  },
  {
   "cell_type": "code",
   "execution_count": null,
   "id": "c1f503a1",
   "metadata": {},
   "outputs": [],
   "source": [
    "#2. Increased budget per student does not guarantee higher scores."
   ]
  }
 ],
 "metadata": {
  "kernelspec": {
   "display_name": "PythonData",
   "language": "python",
   "name": "pythondata"
  },
  "language_info": {
   "codemirror_mode": {
    "name": "ipython",
    "version": 3
   },
   "file_extension": ".py",
   "mimetype": "text/x-python",
   "name": "python",
   "nbconvert_exporter": "python",
   "pygments_lexer": "ipython3",
   "version": "3.9.12"
  }
 },
 "nbformat": 4,
 "nbformat_minor": 5
}
